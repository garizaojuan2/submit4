{
  "nbformat": 4,
  "nbformat_minor": 0,
  "metadata": {
    "colab": {
      "provenance": []
    },
    "kernelspec": {
      "name": "python3",
      "display_name": "Python 3"
    },
    "language_info": {
      "name": "python"
    }
  },
  "cells": [
    {
      "cell_type": "markdown",
      "source": [
        "# Multithreading y Multiprocessing\n",
        "\n",
        "En este Notebook se mostrará la diferencia en tiempos de ejecución entre un programa escrito con la librería `multithreading` y la `multiprocessing`.\n",
        "\n",
        "Para llevar a cabo este estudio se usará como aplicación ejemplo [El juego de la vida de Conway](https://en.wikipedia.org/wiki/Conway%27s_Game_of_Life)."
      ],
      "metadata": {
        "id": "Eu6MRusrqYMk"
      }
    },
    {
      "cell_type": "markdown",
      "source": [
        "## Conociendo el entorno\n",
        "\n",
        "Inicialmente vamos a conocer cuantos núcleos nos ofrecen en este entorno de Notebook en Google Colab."
      ],
      "metadata": {
        "id": "sdUd0WXhrHnw"
      }
    },
    {
      "cell_type": "code",
      "execution_count": null,
      "metadata": {
        "colab": {
          "base_uri": "https://localhost:8080/"
        },
        "id": "fHt1IqocqJzV",
        "outputId": "0ceab38e-0075-4043-9163-e3df9847dcff"
      },
      "outputs": [
        {
          "output_type": "stream",
          "name": "stdout",
          "text": [
            "Numero de CPUs lógicas: 2\n",
            "Porcentaje de uso de la CPU 22.1%\n",
            "Total memory 12977.95 MB, porcentaje de memoria disponible 93.20%\n"
          ]
        }
      ],
      "source": [
        "#\n",
        "# Tomado de:\n",
        "# - https://psutil.readthedocs.io/en/latest/#\n",
        "# - https://superfastpython.com/number-of-cpus-python/#CPU_Count_with_multiprocessingcpu_count\n",
        "#\n",
        "import psutil\n",
        "\n",
        "print(f'Numero de CPUs lógicas: {psutil.cpu_count()}')\n",
        "print(f'Porcentaje de uso de la CPU {psutil.cpu_percent()}%')\n",
        "print(f'Total memory {psutil.virtual_memory().total/(1024*1024):.2f} MB, porcentaje de memoria disponible {(psutil.virtual_memory().available / psutil.virtual_memory().total)*100:.2f}%')"
      ]
    },
    {
      "cell_type": "code",
      "source": [
        "!cat /proc/cpuinfo"
      ],
      "metadata": {
        "colab": {
          "base_uri": "https://localhost:8080/"
        },
        "id": "NnXZJ_5Wo-Lq",
        "outputId": "b7db18c1-e31a-48ce-c9d9-78ae9f4af5ff"
      },
      "execution_count": null,
      "outputs": [
        {
          "output_type": "stream",
          "name": "stdout",
          "text": [
            "processor\t: 0\n",
            "vendor_id\t: GenuineIntel\n",
            "cpu family\t: 6\n",
            "model\t\t: 79\n",
            "model name\t: Intel(R) Xeon(R) CPU @ 2.20GHz\n",
            "stepping\t: 0\n",
            "microcode\t: 0xffffffff\n",
            "cpu MHz\t\t: 2199.998\n",
            "cache size\t: 56320 KB\n",
            "physical id\t: 0\n",
            "siblings\t: 2\n",
            "core id\t\t: 0\n",
            "cpu cores\t: 1\n",
            "apicid\t\t: 0\n",
            "initial apicid\t: 0\n",
            "fpu\t\t: yes\n",
            "fpu_exception\t: yes\n",
            "cpuid level\t: 13\n",
            "wp\t\t: yes\n",
            "flags\t\t: fpu vme de pse tsc msr pae mce cx8 apic sep mtrr pge mca cmov pat pse36 clflush mmx fxsr sse sse2 ss ht syscall nx pdpe1gb rdtscp lm constant_tsc rep_good nopl xtopology nonstop_tsc cpuid tsc_known_freq pni pclmulqdq ssse3 fma cx16 pcid sse4_1 sse4_2 x2apic movbe popcnt aes xsave avx f16c rdrand hypervisor lahf_lm abm 3dnowprefetch invpcid_single ssbd ibrs ibpb stibp fsgsbase tsc_adjust bmi1 hle avx2 smep bmi2 erms invpcid rtm rdseed adx smap xsaveopt arat md_clear arch_capabilities\n",
            "bugs\t\t: cpu_meltdown spectre_v1 spectre_v2 spec_store_bypass l1tf mds swapgs taa mmio_stale_data retbleed bhi\n",
            "bogomips\t: 4399.99\n",
            "clflush size\t: 64\n",
            "cache_alignment\t: 64\n",
            "address sizes\t: 46 bits physical, 48 bits virtual\n",
            "power management:\n",
            "\n",
            "processor\t: 1\n",
            "vendor_id\t: GenuineIntel\n",
            "cpu family\t: 6\n",
            "model\t\t: 79\n",
            "model name\t: Intel(R) Xeon(R) CPU @ 2.20GHz\n",
            "stepping\t: 0\n",
            "microcode\t: 0xffffffff\n",
            "cpu MHz\t\t: 2199.998\n",
            "cache size\t: 56320 KB\n",
            "physical id\t: 0\n",
            "siblings\t: 2\n",
            "core id\t\t: 0\n",
            "cpu cores\t: 1\n",
            "apicid\t\t: 1\n",
            "initial apicid\t: 1\n",
            "fpu\t\t: yes\n",
            "fpu_exception\t: yes\n",
            "cpuid level\t: 13\n",
            "wp\t\t: yes\n",
            "flags\t\t: fpu vme de pse tsc msr pae mce cx8 apic sep mtrr pge mca cmov pat pse36 clflush mmx fxsr sse sse2 ss ht syscall nx pdpe1gb rdtscp lm constant_tsc rep_good nopl xtopology nonstop_tsc cpuid tsc_known_freq pni pclmulqdq ssse3 fma cx16 pcid sse4_1 sse4_2 x2apic movbe popcnt aes xsave avx f16c rdrand hypervisor lahf_lm abm 3dnowprefetch invpcid_single ssbd ibrs ibpb stibp fsgsbase tsc_adjust bmi1 hle avx2 smep bmi2 erms invpcid rtm rdseed adx smap xsaveopt arat md_clear arch_capabilities\n",
            "bugs\t\t: cpu_meltdown spectre_v1 spectre_v2 spec_store_bypass l1tf mds swapgs taa mmio_stale_data retbleed bhi\n",
            "bogomips\t: 4399.99\n",
            "clflush size\t: 64\n",
            "cache_alignment\t: 64\n",
            "address sizes\t: 46 bits physical, 48 bits virtual\n",
            "power management:\n",
            "\n"
          ]
        }
      ]
    },
    {
      "cell_type": "code",
      "source": [
        "!uname -a"
      ],
      "metadata": {
        "colab": {
          "base_uri": "https://localhost:8080/"
        },
        "id": "TAtBJqyRF0nR",
        "outputId": "abebf1cf-b76e-425a-d3e6-1a925bff72da"
      },
      "execution_count": null,
      "outputs": [
        {
          "output_type": "stream",
          "name": "stdout",
          "text": [
            "Linux 5192a9fb1ef8 6.1.123+ #1 SMP PREEMPT_DYNAMIC Sun Mar 30 16:01:29 UTC 2025 x86_64 x86_64 x86_64 GNU/Linux\n"
          ]
        }
      ]
    },
    {
      "cell_type": "markdown",
      "source": [
        "## Código del juego de la vida de Conway\n",
        "\n",
        "En esta sección se verán algunas implementaciones del algoritmo del [juego de la vida de Conway](https://playgameoflife.com/).\n",
        "Inicialmente se verá una versión secuencial, luego se introducirán los elementos para que esta versión secuencial se ejecute con el módulo de `multithreading` y luego `multiprocessing`.\n",
        "\n",
        "En [Wikipedia](https://en.wikipedia.org/wiki/Conway%27s_Game_of_Life) se pueden encontrar las reglas que rigen el juego de la vida de Conway."
      ],
      "metadata": {
        "id": "9GeYe3xDrxp9"
      }
    },
    {
      "cell_type": "markdown",
      "source": [
        "### Versión secuencial\n"
      ],
      "metadata": {
        "id": "K543kM3JsOgk"
      }
    },
    {
      "cell_type": "code",
      "source": [
        "%%time\n",
        "# Version SECUENCIAL del juego de la vida de Conway\n",
        "#\n",
        "\n",
        "import numpy as np\n",
        "from time import time\n",
        "\n",
        "MAX_X = 750\n",
        "MAX_Y = 750\n",
        "\n",
        "#\n",
        "# Funciones auxiliares usadas para estimar los vecinos de una celda y\n",
        "# garantizar que los valores del borde no se vayan a sobrepasar\n",
        "#\n",
        "def posx(x, max_x = MAX_X):\n",
        "  return (x + max_x) % max_x\n",
        "\n",
        "def posy(y, max_y = MAX_Y):\n",
        "  return (y + max_y) % max_y\n",
        "\n",
        "def indice(x,y, max_x = MAX_X):\n",
        "  return posx(x) + posy(y) * max_x\n",
        "\n",
        "#\n",
        "# Esta funcion se encarga de contar los 8 vecinos de una celda cuales están\n",
        "# vivos (valor a '1') o cuantos están muertos (valor a '0')\n",
        "#\n",
        "#                 |                |\n",
        "#  (X - 1, Y - 1) | (  X  , Y - 1) | (X + 1, Y - 1)\n",
        "#                 |                |\n",
        "# --------------------------------------------------\n",
        "#                 |                |\n",
        "#  (X - 1,   Y  ) | (  X  ,   Y  ) | (X + 1,   Y  )\n",
        "#                 |                |\n",
        "# --------------------------------------------------\n",
        "#                 |                |\n",
        "#  (X - 1, Y + 1) | (  X  , Y + 1) | (X + 1, Y + 1)\n",
        "#                 |                |\n",
        "\n",
        "def vecinos(x,y,vector):\n",
        "  return vector[ indice(x - 1, y - 1) ] + vector[ indice(x - 1, y) ] + vector[ indice(x - 1, y + 1) ] \\\n",
        "  + vector[ indice(x, y - 1) ] + vector[ indice(x, y + 1) ] \\\n",
        "  + vector[ indice(x + 1, y - 1) ] + vector[ indice(x + 1, y) ] + vector[ indice(x + 1, y + 1) ]\n",
        "#\n",
        "# Esta función se encarga de recorrer toda las celdas y estimar cuales de ellas\n",
        "# vivirán y cuales no\n",
        "#\n",
        "def conway(vector_out, vector_in, low_limit = 0, high_limit = MAX_X):\n",
        "  for i in range(low_limit,high_limit):\n",
        "    for j in range(0,MAX_Y):\n",
        "      n = vecinos(i,j, vector_in)\n",
        "      valor = 0\n",
        "      if vector_in[ indice(i,j) ] == 1 and (n == 2 or n == 3):\n",
        "        valor = 1\n",
        "      elif vector_in[ indice(i,j) ] == 0 and n == 3:\n",
        "        valor = 1\n",
        "      vector_out[ indice(i,j) ] = valor\n",
        "\n",
        "def print_vector_as_matrix(v):\n",
        "  for i in range(0,MAX_X):\n",
        "    for j in range(0,MAX_Y):\n",
        "      print(\"%2d\" % v[i*MAX_Y + j], end=\"\")\n",
        "    print()\n",
        "\n",
        "#\n",
        "# Función principal\n",
        "#\n",
        "if __name__ == '__main__':\n",
        "  vector = np.int32( np.random.choice([1,0], MAX_X * MAX_Y, p = [0.50, 0.50]) )\n",
        "  vector_out = np.empty(MAX_X * MAX_Y, dtype = np.int32)\n",
        "  print(vector)\n",
        "  t1 = time()\n",
        "  conway(vector_out, vector)\n",
        "  t2 = time()\n",
        "  #print()\n",
        "  print(vector_out)\n",
        "  print(f\"El tiempo que tomó calcular {t2 - t1}\")"
      ],
      "metadata": {
        "colab": {
          "base_uri": "https://localhost:8080/"
        },
        "id": "CCuRWEvBtQqg",
        "outputId": "42d0159a-9eb0-4181-e1af-3fcb7f001a77"
      },
      "execution_count": 9,
      "outputs": [
        {
          "output_type": "stream",
          "name": "stdout",
          "text": [
            "[1 1 1 ... 1 1 1]\n",
            "[0 0 1 ... 1 0 0]\n",
            "El tiempo que tomó calcular 1.9031174182891846\n",
            "CPU times: user 1.91 s, sys: 8.17 ms, total: 1.91 s\n",
            "Wall time: 1.92 s\n"
          ]
        }
      ]
    },
    {
      "cell_type": "markdown",
      "source": [
        "### Versión multithreading"
      ],
      "metadata": {
        "id": "w6VccN8eq_bK"
      }
    },
    {
      "cell_type": "code",
      "source": [
        "# Version MULTITHREADING del juego de la vida de Conway\n",
        "\n",
        "import numpy as np\n",
        "from threading import Thread\n",
        "from multiprocessing import cpu_count\n",
        "from time import time\n",
        "\n",
        "MAX_UNITS = cpu_count() * 2\n",
        "MAX_X = 750\n",
        "MAX_Y = 750\n",
        "\n",
        "#\n",
        "# Funciones auxiliares usadas para estimar los vecinos de una celda y\n",
        "# garantizar que los valores del borde no se vayan a sobrepasar\n",
        "#\n",
        "\n",
        "def posx(x, max_x = MAX_X):\n",
        "  return (x + max_x) % max_x\n",
        "\n",
        "def posy(y, max_y = MAX_Y):\n",
        "  return (y + max_y) % max_y\n",
        "\n",
        "def indice(x,y, max_x = MAX_X):\n",
        "  return posx(x) + posy(y) * max_x\n",
        "\n",
        "#\n",
        "# Esta funcion se encarga de contar los 8 vecinos de una celda cuales están\n",
        "# vivos (valor a '1') o cuantos están muertos (valor a '0')\n",
        "#\n",
        "#                 |                |\n",
        "#  (X - 1, Y - 1) | (  X  , Y - 1) | (X + 1, Y - 1)\n",
        "#                 |                |\n",
        "# --------------------------------------------------\n",
        "#                 |                |\n",
        "#  (X - 1,   Y  ) | (  X  ,   Y  ) | (X + 1,   Y  )\n",
        "#                 |                |\n",
        "# --------------------------------------------------\n",
        "#                 |                |\n",
        "#  (X - 1, Y + 1) | (  X  , Y + 1) | (X + 1, Y + 1)\n",
        "#\n",
        "\n",
        "def vecinos(x,y,vector):\n",
        "  return vector[ indice(x - 1, y - 1) ] + vector[ indice(x - 1, y) ] + vector[ indice(x - 1, y + 1) ] \\\n",
        "  + vector[ indice(x, y - 1) ] + vector[ indice(x, y + 1) ] \\\n",
        "  + vector[ indice(x + 1, y - 1) ] + vector[ indice(x + 1, y) ] + vector[ indice(x + 1, y + 1) ]\n",
        "#\n",
        "# Esta función se encarga de recorrer toda las celdas y estimar cuales de ellas\n",
        "# vivirán y cuales no\n",
        "#\n",
        "def conway(vector_out, vector_in, low_limit = 0, high_limit = MAX_X):\n",
        "  for i in range(low_limit,high_limit):\n",
        "    for j in range(0,MAX_Y):\n",
        "      n = vecinos(i,j, vector_in)\n",
        "      valor = 0\n",
        "      if vector_in[ indice(i,j) ] == 1 and (n == 2 or n == 3):\n",
        "        valor = 1\n",
        "      elif vector_in[ indice(i,j) ] == 0 and n == 3:\n",
        "        valor = 1\n",
        "      vector_out[ indice(i,j) ] = valor\n",
        "\n",
        "#\n",
        "# Función principal\n",
        "#\n",
        "if __name__ == '__main__':\n",
        "  vector = np.int32( np.random.choice([1,0], MAX_X * MAX_Y, p = [0.50, 0.50]) )\n",
        "  vector_out = np.empty(MAX_X * MAX_Y, dtype = np.int32)\n",
        "  print(vector)\n",
        "  # Variables usadas para hacer la partición de las filas que procesara cada\n",
        "  # hilo\n",
        "  stride = np.int32(MAX_X  / MAX_UNITS)\n",
        "  count = np.int32(0)\n",
        "  workers = [] # arreglo que almacenará aquellos hilos que se ejecutan\n",
        "  for t in range(MAX_UNITS):\n",
        "    worker = Thread(target = conway,\n",
        "                    args = (vector_out, vector, count, count + stride))\n",
        "    worker.daemon = True\n",
        "    workers.append(worker)\n",
        "    count = count + stride\n",
        "\n",
        "  t1 = time()\n",
        "  for worker in workers:\n",
        "    worker.start()\n",
        "  # Ciclo que espera por la terminación de todos los hilos que se lanzaron\n",
        "  for worker in workers:\n",
        "    worker.join()\n",
        "  t2 = time()\n",
        "  print(vector_out)\n",
        "  print(f\"El tiempo que tomó calcular {t2 - t1}\")"
      ],
      "metadata": {
        "colab": {
          "base_uri": "https://localhost:8080/"
        },
        "id": "GMaq0apPqt9z",
        "outputId": "e785500b-2108-46de-e7e6-41b40021d744"
      },
      "execution_count": 10,
      "outputs": [
        {
          "output_type": "stream",
          "name": "stdout",
          "text": [
            "[0 0 1 ... 0 1 0]\n",
            "[1 0 0 ... 0 1 1]\n",
            "El tiempo que tomó calcular 2.119213581085205\n"
          ]
        }
      ]
    },
    {
      "cell_type": "markdown",
      "source": [
        "### Versión multiprocessing"
      ],
      "metadata": {
        "id": "G0TDDiemy-16"
      }
    },
    {
      "cell_type": "code",
      "source": [
        "# Version MULTIPROCESSING del juego de la vida de Conway\n",
        "#\n",
        "# Modificado\n",
        "# 2024-02-14: generacion aleatoria de un punto en el mundo de Conway\n",
        "\n",
        "import numpy as np\n",
        "from multiprocessing import Process\n",
        "from multiprocessing import cpu_count\n",
        "from multiprocessing import RawArray\n",
        "from time import time\n",
        "import random\n",
        "\n",
        "MAX_UNITS = cpu_count()*2\n",
        "MAX_X = 750\n",
        "MAX_Y = 750\n",
        "\n",
        "_vector = np.int32( np.random.choice([1,0], MAX_X * MAX_Y, p = [0.50, 0.50]) )\n",
        "vector = RawArray('i',_vector)\n",
        "_vector_out = np.empty(MAX_X * MAX_Y, dtype = np.int32)\n",
        "vector_out = RawArray('i',_vector_out)\n",
        "\n",
        "#\n",
        "# Funciones auxiliares usadas para estimar los vecinos de una celda y\n",
        "# garantizar que los valores del borde no se vayan a sobrepasar\n",
        "#\n",
        "\n",
        "def posx(x, max_x = MAX_X):\n",
        "  return (x + max_x) % max_x\n",
        "\n",
        "def posy(y, max_y = MAX_Y):\n",
        "  return (y + max_y) % max_y\n",
        "\n",
        "def indice(x,y, max_y = MAX_Y):\n",
        "  return posx(x) * max_y + posy(y)\n",
        "\n",
        "#\n",
        "# Esta funcion se encarga de contar los 8 vecinos de una celda cuales están\n",
        "# vivos (valor a '1') o cuantos están muertos (valor a '0')\n",
        "#\n",
        "#                 |                |\n",
        "#  (X - 1, Y - 1) | (  X  , Y - 1) | (X + 1, Y - 1)\n",
        "#                 |                |\n",
        "# --------------------------------------------------\n",
        "#                 |                |\n",
        "#  (X - 1,   Y  ) | (  X  ,   Y  ) | (X + 1,   Y  )\n",
        "#                 |                |\n",
        "# --------------------------------------------------\n",
        "#                 |                |\n",
        "#  (X - 1, Y + 1) | (  X  , Y + 1) | (X + 1, Y + 1)\n",
        "#\n",
        "\n",
        "def vecinos(x,y):\n",
        "  return vector[ indice(x - 1, y - 1) ] + vector[ indice(x - 1 , y) ] + vector[ indice(x - 1, y + 1) ] \\\n",
        "  + vector[ indice(x, y - 1) ] + vector[ indice(x, y + 1) ] \\\n",
        "  + vector[ indice(x + 1, y - 1) ] + vector[ indice(x + 1 , y) ] + vector[ indice(x + 1, y + 1) ]\n",
        "\n",
        "def imprimir_vecinos(x,y):\n",
        "    print(f\"La posicion ({x},{y}) paso de {vector[indice(x,y)]} a {vector_out[indice(x,y)]}\")\n",
        "    print(\"Sus vecinos eran\")\n",
        "    print(f\"{vector[ indice(x - 1, y - 1) ]}, {vector[ indice(x - 1, y) ]}, {vector[ indice(x - 1, y + 1)]}\")\n",
        "    print(f\"{vector[ indice(x, y - 1) ]}, X, {vector[ indice(x, y + 1) ]}\")\n",
        "    print(f\"{vector[ indice(x + 1, y - 1) ]}, {vector[ indice(x + 1, y) ]}, {vector[ indice(x + 1, y + 1) ]}\")\n",
        "\n",
        "#\n",
        "# Esta función se encarga de recorrer toda las celdas y estimar cuales de ellas\n",
        "# vivirán y cuales no\n",
        "#\n",
        "def conway(low_limit = 0, high_limit = MAX_X):\n",
        "  #print(f\"De fila {low_limit} a fila {high_limit}\")\n",
        "  for i in range(low_limit,high_limit):\n",
        "    for j in range(0,MAX_Y):\n",
        "      n = vecinos(i,j)\n",
        "      valor = 0\n",
        "      if vector[ indice(i,j) ] == 1 and (n == 2 or n == 3):\n",
        "        valor = 1\n",
        "      elif vector[ indice(i,j) ] == 0 and n == 3:\n",
        "        valor = 1\n",
        "      vector_out[ indice(i,j) ] = valor\n",
        "\n",
        "#\n",
        "# Función principal\n",
        "#\n",
        "if __name__ == '__main__':\n",
        "  #print(np.frombuffer(vector, dtype = np.int32))\n",
        "  print(np.frombuffer(vector, dtype = np.int32).reshape(MAX_X, MAX_Y))\n",
        "  # Variables usadas para hacer la partición de las filas que trabajará cada\n",
        "  # proceso\n",
        "  stride = np.int32(MAX_X / MAX_UNITS)\n",
        "  count = np.int32(0)\n",
        "  workers = [] # arreglo que almacenará aquellos procesos que se crearán\n",
        "  for t in range(MAX_UNITS):\n",
        "    worker = Process(target = conway,\n",
        "                    args = (count, np.int32(count + stride)))\n",
        "    workers.append(worker)\n",
        "    #print(count)\n",
        "    count = count + stride\n",
        "  # Ciclo que lanza la ejecución de los procesos que se crearon\n",
        "  t1 = time()\n",
        "  for worker in workers:\n",
        "    worker.start()\n",
        "  # Ciclo que espera por la terminación de todos los procesos que se lanzaron\n",
        "  for worker in workers:\n",
        "    worker.join()\n",
        "  t2 = time()\n",
        "  print()\n",
        "  print(np.frombuffer(vector_out, dtype = np.int32).reshape(MAX_X, MAX_Y))\n",
        "  print(f\"El tiempo que tomó calcular {t2 - t1}\")\n",
        "  imprimir_vecinos(random.randint(0,MAX_X), random.randint(0,MAX_Y))"
      ],
      "metadata": {
        "colab": {
          "base_uri": "https://localhost:8080/"
        },
        "outputId": "001e3429-7726-428c-8915-baa83bdb9001",
        "id": "zbjxzk18y-17"
      },
      "execution_count": 6,
      "outputs": [
        {
          "output_type": "stream",
          "name": "stdout",
          "text": [
            "[[1 0 0 ... 0 1 0]\n",
            " [1 1 0 ... 1 0 0]\n",
            " [1 0 0 ... 0 0 0]\n",
            " ...\n",
            " [0 1 0 ... 1 1 0]\n",
            " [0 1 1 ... 0 1 1]\n",
            " [0 0 0 ... 0 0 1]]\n",
            "\n",
            "[[1 1 0 ... 1 1 0]\n",
            " [1 1 1 ... 1 0 0]\n",
            " [0 0 0 ... 1 0 0]\n",
            " ...\n",
            " [0 0 0 ... 0 0 0]\n",
            " [1 1 0 ... 1 1 0]\n",
            " [1 1 1 ... 1 0 1]]\n",
            "El tiempo que tomó calcular 1.3256492614746094\n",
            "La posicion (202,36) paso de 1 a 1\n",
            "Sus vecinos eran\n",
            "0, 1, 0\n",
            "1, X, 0\n",
            "0, 0, 0\n"
          ]
        }
      ]
    }
  ]
}